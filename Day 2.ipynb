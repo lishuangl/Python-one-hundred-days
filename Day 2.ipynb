{
 "cells": [
  {
   "cell_type": "markdown",
   "metadata": {},
   "source": [
    "<font face=\"Times new roman\" > \n",
    "\n",
    "# Learning basic grammar\n",
    "\n",
    "- - -\n",
    "\n",
    "Three project :\n",
    "- The temperature transformation\n",
    "- Calculate circle perimeter and area\n",
    "- Judge leap year\n",
    "\n",
    "Some tips :\n",
    "\n",
    "- All the input are string type , it need to tranfer float or double\n",
    "- Control print type need to use % to control\n",
    "\n",
    "## Practice\n",
    "</font>"
   ]
  },
  {
   "cell_type": "code",
   "execution_count": 1,
   "metadata": {},
   "outputs": [
    {
     "name": "stdout",
     "output_type": "stream",
     "text": [
      "Please input celsius :32\n",
      "89.6 F\n",
      "Please input radius :2\n",
      "perimeter: 12.57 area: 12.57\n",
      "Please input year :2019\n",
      "Not leap year\n"
     ]
    }
   ],
   "source": [
    "import math\n",
    "\n",
    "def tem_tran():\n",
    "    x=input('Please input celsius :')\n",
    "    x=float(x)\n",
    "    y=1.8*x+32\n",
    "    print(y,'F')\n",
    "\n",
    "def cir_cal():\n",
    "    x=float(input('Please input radius :'))\n",
    "    y=2*math.pi*x\n",
    "    z=math.pi*x**2\n",
    "    print('perimeter: %.2f'%y,'area: %.2f'%z)\n",
    "\n",
    "def ju_le():\n",
    "    x=int(input('Please input year :'))\n",
    "    if (x % 4 == 0 and x % 100 != 0 or x %400 == 0):\n",
    "        print('Is leap year')\n",
    "    else:\n",
    "        print('Not leap year')\n",
    "    \n",
    "tem_tran()\n",
    "cir_cal()\n",
    "ju_le()"
   ]
  }
 ],
 "metadata": {
  "kernelspec": {
   "display_name": "Python 3",
   "language": "python",
   "name": "python3"
  },
  "language_info": {
   "codemirror_mode": {
    "name": "ipython",
    "version": 3
   },
   "file_extension": ".py",
   "mimetype": "text/x-python",
   "name": "python",
   "nbconvert_exporter": "python",
   "pygments_lexer": "ipython3",
   "version": "3.7.3"
  }
 },
 "nbformat": 4,
 "nbformat_minor": 2
}
